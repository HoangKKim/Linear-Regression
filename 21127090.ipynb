{
  "cells": [
    {
      "cell_type": "markdown",
      "metadata": {
        "id": "PkeRQOXrwYMw"
      },
      "source": [
        "# <center>Đồ án 3: Linear Regression</center>"
      ]
    },
    {
      "cell_type": "markdown",
      "metadata": {
        "id": "rYtOGtXmwYM2"
      },
      "source": [
        "# Thông tin sinh viên\n",
        "\n",
        "- Họ và tên: Võ Nguyễn Hoàng Kim\n",
        "- MSSV: 21127090\n",
        "- Lớp: 21CLC07"
      ]
    },
    {
      "cell_type": "markdown",
      "metadata": {
        "id": "3Vj0BM_uwYM3"
      },
      "source": [
        "# Import"
      ]
    },
    {
      "cell_type": "code",
      "execution_count": 139,
      "metadata": {
        "id": "EMSA2rqwwYM4"
      },
      "outputs": [],
      "source": [
        "import pandas as pd\n",
        "import numpy as np\n",
        "import matplotlib.pyplot as plt\n",
        "import seaborn as sns\n",
        "from sklearn.model_selection import KFold\n",
        "\n",
        "# Import thêm dữ thư viện nếu cần"
      ]
    },
    {
      "cell_type": "markdown",
      "metadata": {
        "id": "DX6aPQhuwYM6"
      },
      "source": [
        "# Đọc dữ liệu"
      ]
    },
    {
      "cell_type": "code",
      "execution_count": 140,
      "metadata": {
        "id": "KsDOxITJwYM6"
      },
      "outputs": [],
      "source": [
        "# Đọc dữ liệu bằng pandas\n",
        "train = pd.read_csv('train.csv')\n",
        "test = pd.read_csv('test.csv')\n",
        "\n",
        "# Lấy các đặc trưng X và giá trị mục tiêu y cho các tập huấn luyện (train) và kiểm tra (test)\n",
        "X_train = train.iloc[:, :-1]    # Dataframe (chứa các đặc trưng huấn luyện)\n",
        "y_train = train.iloc[:, -1]     # Series    (chứa 1 giá trị mục tiêu kiểm tra)\n",
        "\n",
        "X_test = test.iloc[:, :-1]      # Dataframe (chứa các đặc trưng kiểm tra)\n",
        "y_test = test.iloc[:, -1]       # Series    (chứa 1 giá trị mục tiêu kiểm tra)\n",
        "\n",
        "# Sinh viên có thể sử dụng các khác nếu cần"
      ]
    },
    {
      "cell_type": "markdown",
      "metadata": {
        "id": "Rp-mGjiawYM7"
      },
      "source": [
        "# Cài đặt hàm"
      ]
    },
    {
      "cell_type": "code",
      "execution_count": 141,
      "metadata": {
        "id": "AVk8ib9hwYM7"
      },
      "outputs": [],
      "source": [
        "# Cài đặt các hàm cần thiết ở đây\n",
        "# Cài đặt hồi quy tuyến tính\n",
        "class OLSLinearRegression:\n",
        "  # tính toán\n",
        "    def fit(self, X, y):\n",
        "        X_pinv = np.linalg.inv(X.T @ X) @ X.T    # np.linalg.pinv(X)\n",
        "        self.w = X_pinv @ y\n",
        "        return self\n",
        "\n",
        "  # lấy ra trọng số\n",
        "    def get_params(self):\n",
        "        return self.w\n",
        "\n",
        "  # dự đoán y\n",
        "    def predict(self, X):\n",
        "        return np.sum(self.w.ravel() * X, axis=1)\n",
        "\n",
        "# cài đặt hàm MAE\n",
        "def mae(y, y_hat):\n",
        "    return np.mean(np.abs(y.ravel() - y_hat.ravel()))\n",
        "\n",
        "# cài đặt tiền xử lý cho dữ liệu: thêm cột 1 vào vị trí đầu tiên cho tập dữ liệu\n",
        "def preProcess(x):\n",
        "    X = np.hstack((np.ones((x.shape[0], 1)), x))\n",
        "    return X\n"
      ]
    },
    {
      "cell_type": "markdown",
      "metadata": {
        "id": "l92muu3rwYM7"
      },
      "source": [
        "# Yêu cầu 1a: Sử dụng toàn bộ 11 đặc trưng đầu tiên `Gender`, `10percentage`, `12percentage`, `CollegeTier`, `Degree`, `collegeGPA`, `CollegeCityTier`, `English`, `Logical`, `Quant`, `Domain` (2 điểm)"
      ]
    },
    {
      "cell_type": "code",
      "execution_count": 142,
      "metadata": {
        "colab": {
          "base_uri": "https://localhost:8080/"
        },
        "id": "Z8tQvGQKwYM7",
        "outputId": "2374d90c-5fb0-40fb-ffab-9ebe96a422ee"
      },
      "outputs": [
        {
          "data": {
            "text/plain": [
              "array([ 49248.089735  , -23183.32950756,    702.76679172,   1259.0187879 ,\n",
              "       -99570.60814077,  18369.96244951,   1297.53200035,  -8836.72712299,\n",
              "          141.75993906,    145.74234652,    114.64331342,  34955.75040521])"
            ]
          },
          "execution_count": 142,
          "metadata": {},
          "output_type": "execute_result"
        }
      ],
      "source": [
        "# Phần code cho yêu cầu 1a\n",
        "\n",
        "# đọc dữ liệu cho yêu cầu 1a\n",
        "X_train_1a = train.iloc[:, :11]\n",
        "y_train_1a = y_train.iloc[:]\n",
        "\n",
        "X_test_1a = test.iloc[:, :11]\n",
        "y_test_1a = y_test.iloc[:]\n",
        "\n",
        "X_test_1a =preProcess(X_test_1a)\n",
        "X_train_1a = preProcess(X_train_1a)\n",
        "\n",
        "model = OLSLinearRegression().fit(X_train_1a, y_train_1a)\n",
        "model.get_params()"
      ]
    },
    {
      "cell_type": "code",
      "execution_count": 143,
      "metadata": {
        "colab": {
          "base_uri": "https://localhost:8080/"
        },
        "id": "JmOZWsDqwYM8",
        "outputId": "90096cbf-c584-4d31-e6dc-e68de3dd76e3"
      },
      "outputs": [
        {
          "name": "stdout",
          "output_type": "stream",
          "text": [
            "MAE: 105052.5297882305\n"
          ]
        }
      ],
      "source": [
        "# Gọi hàm MAE (tự cài đặt hoặc từ thư viện) trên tập kiểm tra\n",
        "y_hat = model.predict(X_test_1a)\n",
        "print('MAE:', mae(y_test_1a, y_hat))"
      ]
    },
    {
      "cell_type": "markdown",
      "metadata": {
        "id": "VjEaQLKnwYM9"
      },
      "source": [
        "Công thức hồi quy (phần trọng số làm tròn đến 3 chữ số thập phân, ví dụ 0.012345 $\\to$ 0.012)\n",
        "\n",
        "$$\\text{Salary} = 49248.089 - 23183.329\\times \\text{Gender} + 702.766\\times \\text{10percentage } + 1259.019\\times \\text{12percentage} \\\\ - 99570.608\\times \\text{CollegeTier} + 18369.962\\times \\text{Degree} + 1297.532\\times \\text{collegeGPA} \\\\ - 8836.727\\times \\text{CollegeCityTier} + 141.759\\times \\text{English} + 145.742\\times \\text{Logical} + 114.643\\times \\text{Quant} + 34955.750\\times \\text{Domain}$$"
      ]
    },
    {
      "cell_type": "markdown",
      "metadata": {
        "id": "3lwAsTEPwYM9"
      },
      "source": [
        "# Yêu cầu 1b: Xây dựng mô hình sử dụng duy nhất 1 đặc trưng tính cách với các đặc trưng tính cách gồm `conscientiousness`, `agreeableness`, `extraversion`, `nueroticism`, `openess_to_experience`, tìm mô hình cho kết quả tốt nhất (1 điểm)"
      ]
    },
    {
      "cell_type": "markdown",
      "metadata": {
        "id": "KYK5G0LNwYM9"
      },
      "source": [
        "Lưu ý: khi sử dụng cross-validation, sinh viên cần xáo trộn dữ liệu 1 lần duy nhất và thực hiện trên toàn bộ đặc trưng"
      ]
    },
    {
      "cell_type": "code",
      "execution_count": 144,
      "metadata": {
        "colab": {
          "base_uri": "https://localhost:8080/"
        },
        "id": "ZobNqDTFwYM-",
        "outputId": "4315630f-d3ef-4f95-be2c-400cf11d27ee"
      },
      "outputs": [
        {
          "name": "stdout",
          "output_type": "stream",
          "text": [
            "The best feature is: nueroticism\n",
            "                 Feature            MAE\n",
            "0            nueroticism  123473.399787\n",
            "1          agreeableness  123706.054730\n",
            "2           extraversion  123809.926200\n",
            "3  openess_to_experience  123818.333575\n",
            "4      conscientiousness  124182.563823\n"
          ]
        }
      ],
      "source": [
        "# Phần code cho yêu cầu 1b\n",
        "# Tìm ra đặc trưng tốt nhất\n",
        "# In ra các kết quả cross-validation như yêu cầu\n",
        "\n",
        "# get name of each columns\n",
        "listFeature = [\"conscientiousness\", \"agreeableness\", \"extraversion\", \"nueroticism\", \"openess_to_experience\"]\n",
        "listMae = []\n",
        "\n",
        "numFold = 5\n",
        "kF = KFold(n_splits = numFold, shuffle = True, random_state = 42)\n",
        "\n",
        "for feature in listFeature:\n",
        "  sum = 0\n",
        "  # lấy dữ liệu cho đặc trưng tính cách \"feature\"\n",
        "  X_train_feature = X_train[[feature]]\n",
        "  # thực hiện tiền xử lý cho dữ liệu vừa lấy\n",
        "  X_train_feature_pre = preProcess(X_train_feature)\n",
        "\n",
        "  for train_index, test_index in kF.split(X_train_feature_pre):\n",
        "\n",
        "      train_X, test_X = X_train_feature_pre[train_index], X_train_feature_pre[test_index]\n",
        "      train_y, test_y = y_train.iloc[train_index], y_train.iloc[test_index]\n",
        "\n",
        "      model.fit(train_X, train_y)\n",
        "      y_pred = model.predict(test_X)\n",
        "      sum += mae(test_y, y_pred)\n",
        "\n",
        "  avgMae = sum / numFold\n",
        "  listMae.append([feature, avgMae])\n",
        "\n",
        "sortedMae = sorted(listMae, key=lambda x: x[1])\n",
        "minMae = sortedMae[0]\n",
        "print('The best feature is:', minMae[0])\n",
        "prediction = pd.DataFrame(sortedMae, columns=['Feature', 'MAE'])\n",
        "print(prediction)\n"
      ]
    },
    {
      "cell_type": "code",
      "execution_count": 145,
      "metadata": {
        "colab": {
          "base_uri": "https://localhost:8080/"
        },
        "id": "3yi04OobwYM-",
        "outputId": "c1f6b1bc-3aea-4a96-e451-50713111c9d3"
      },
      "outputs": [
        {
          "data": {
            "text/plain": [
              "array([304647.55255226, -16021.49366179])"
            ]
          },
          "execution_count": 145,
          "metadata": {},
          "output_type": "execute_result"
        }
      ],
      "source": [
        "# Huấn luyện lại mô hình best_personality_feature_model với đặc trưng tốt nhất trên toàn bộ tập huấn luyện\n",
        "X_train_best = X_train[minMae[0]].values.reshape(-1, 1)\n",
        "X_train_best_pre = preProcess(X_train_best)\n",
        "\n",
        "best_personality_feature_model = OLSLinearRegression().fit(X_train_best_pre, y_train)\n",
        "best_personality_feature_model.get_params()"
      ]
    },
    {
      "cell_type": "code",
      "execution_count": 146,
      "metadata": {
        "colab": {
          "base_uri": "https://localhost:8080/"
        },
        "id": "hZ8Y3H6fwYM-",
        "outputId": "6fdde771-045c-4fd0-e39b-7574b73e7a0a"
      },
      "outputs": [
        {
          "name": "stdout",
          "output_type": "stream",
          "text": [
            "MAE: 119361.91739987818\n"
          ]
        }
      ],
      "source": [
        "# Gọi hàm MAE (tự cài đặt hoặc từ thư viện) trên tập kiểm tra với mô hình best_personality_feature_model\n",
        "X_test_best = X_test[minMae[0]].values.reshape(-1, 1)\n",
        "X_test_best_pre = preProcess(X_test_best)\n",
        "\n",
        "y_hat_best = best_personality_feature_model.predict(X_test_best_pre)\n",
        "print('MAE:', mae(y_test, y_hat_best))"
      ]
    },
    {
      "cell_type": "markdown",
      "metadata": {
        "id": "qMAzdQt4wYM-"
      },
      "source": [
        "Công thức hồi quy (phần trọng số làm tròn đến 3 chữ số thập phân, ví dụ 0.012345 $\\to$ 0.012)\n",
        "\n",
        "$$\\text{Salary} = 304647.552 - 16021.494\\times \\text{nueroticism}$$"
      ]
    },
    {
      "cell_type": "markdown",
      "metadata": {
        "id": "M3FUp0dPwYM_"
      },
      "source": [
        "# Yêu cầu 1c: Xây dựng mô hình sử dụng duy nhất 1 đặc trưng `English`, `Logical`, `Quant`, tìm mô hình cho kết quả tốt nhất (1 điểm)"
      ]
    },
    {
      "cell_type": "markdown",
      "metadata": {
        "id": "BqCgGaynwYNA"
      },
      "source": [
        "Lưu ý: khi sử dụng cross-validation, sinh viên cần xáo trộn dữ liệu 1 lần duy nhất và thực hiện trên toàn bộ đặc trưng"
      ]
    },
    {
      "cell_type": "code",
      "execution_count": 147,
      "metadata": {
        "colab": {
          "base_uri": "https://localhost:8080/"
        },
        "id": "CC3d8FLtwYNA",
        "outputId": "7a0021a1-421e-4aa7-b215-e571ec16e316"
      },
      "outputs": [
        {
          "name": "stdout",
          "output_type": "stream",
          "text": [
            "The best feature is: Quant\n",
            "   Feature            MAE\n",
            "0    Quant  117353.838031\n",
            "1  Logical  119932.503599\n",
            "2  English  120728.603666\n"
          ]
        }
      ],
      "source": [
        "# Phần code cho yêu cầu 1c\n",
        "# Tìm ra đặc trưng tốt nhất\n",
        "# In ra các kết quả cross-validation như yêu cầu\n",
        "\n",
        "listFeature = [\"English\", \"Logical\", \"Quant\"]\n",
        "listMae = []\n",
        "\n",
        "numFold = 5\n",
        "kF = KFold(n_splits = numFold, shuffle = True, random_state = 42)\n",
        "\n",
        "for feature in listFeature:\n",
        "  sum = 0\n",
        "\n",
        "  # lấy dữ liệu cho đặc trưng tính cách \"feature\"\n",
        "  X_train_feature = X_train[[feature]]\n",
        "  # thực hiện tiền xử lý cho dữ liệu vừa lấy\n",
        "  X_train_feature_pre = preProcess(X_train_feature)\n",
        "\n",
        "  for train_index, test_index in kF.split(X_train_feature_pre):\n",
        "\n",
        "      train_X, test_X = X_train_feature_pre[train_index], X_train_feature_pre[test_index]\n",
        "      train_y, test_y = y_train.iloc[train_index], y_train.iloc[test_index]\n",
        "\n",
        "      model.fit(train_X, train_y)\n",
        "      y_pred = model.predict(test_X)\n",
        "      sum += mae(test_y, y_pred)\n",
        "\n",
        "  avgMae = sum / numFold\n",
        "  listMae.append([feature, avgMae])\n",
        "\n",
        "sortedMae = sorted(listMae, key=lambda x: x[1])\n",
        "minMae = sortedMae[0]\n",
        "print('The best feature is:', minMae[0])\n",
        "prediction = pd.DataFrame(sortedMae, columns=['Feature', 'MAE'])\n",
        "print(prediction)\n",
        "\n",
        "\n",
        "\n"
      ]
    },
    {
      "cell_type": "code",
      "execution_count": 148,
      "metadata": {
        "colab": {
          "base_uri": "https://localhost:8080/"
        },
        "id": "Im4R6eVawYNB",
        "outputId": "51e293c1-345f-466a-cbda-1302f07f1c6b"
      },
      "outputs": [
        {
          "data": {
            "text/plain": [
              "array([117759.72931231,    368.85246384])"
            ]
          },
          "execution_count": 148,
          "metadata": {},
          "output_type": "execute_result"
        }
      ],
      "source": [
        "# Huấn luyện lại mô hình best_skill_feature_model với đặc trưng tốt nhất trên toàn bộ tập huấn luyện\n",
        "X_train_best = X_train[minMae[0]].values.reshape(-1, 1)\n",
        "X_train_best_pre = preProcess(X_train_best)\n",
        "\n",
        "best_skill_feature_model = OLSLinearRegression().fit(X_train_best_pre, y_train)\n",
        "best_skill_feature_model.get_params()"
      ]
    },
    {
      "cell_type": "code",
      "execution_count": 149,
      "metadata": {
        "colab": {
          "base_uri": "https://localhost:8080/"
        },
        "id": "cnfy0dGjwYNB",
        "outputId": "95b6a902-3a05-46e2-acbe-b78e7decc826"
      },
      "outputs": [
        {
          "name": "stdout",
          "output_type": "stream",
          "text": [
            "MAE: 108814.0596883719\n"
          ]
        }
      ],
      "source": [
        "# Gọi hàm MAE (tự cài đặt hoặc từ thư viện) trên tập kiểm tra với mô hình best_skill_feature_model\n",
        "X_test_best = X_test[minMae[0]].values.reshape(-1, 1)\n",
        "X_test_best_pre = preProcess(X_test_best)\n",
        "\n",
        "y_hat_best = best_skill_feature_model.predict(X_test_best_pre)\n",
        "print('MAE:', mae(y_test, y_hat_best))"
      ]
    },
    {
      "cell_type": "markdown",
      "metadata": {
        "id": "vnW8KKBgwYNB"
      },
      "source": [
        "Công thức hồi quy (phần trọng số làm tròn đến 3 chữ số thập phân, ví dụ 0.012345 $\\to$ 0.012)\n",
        "\n",
        "$$\\text{Salary} = 117759.729 + 368.852\\times \\text{Quant}$$"
      ]
    },
    {
      "cell_type": "markdown",
      "metadata": {
        "id": "GioCwJz4wYNB"
      },
      "source": [
        "# Yêu cầu 1d: Sinh viên tự xây dựng mô hình, tìm mô hình cho kết quả tốt nhất (3 điểm)"
      ]
    },
    {
      "cell_type": "markdown",
      "metadata": {
        "id": "feLAsFClwYNC"
      },
      "source": [
        "Lưu ý: khi sử dụng cross-validation, sinh viên cần xáo trộn dữ liệu 1 lần duy nhất và thực hiện trên toàn bộ $m$ mô hình mà sinh viên thiết kế"
      ]
    },
    {
      "cell_type": "markdown",
      "metadata": {
        "id": "TVM2ZqxFwYNC"
      },
      "source": [
        "## Tìm mô hình"
      ]
    },
    {
      "cell_type": "markdown",
      "metadata": {
        "id": "NWApb52t1Axd"
      },
      "source": [
        "MAE nhỏ nhất"
      ]
    },
    {
      "cell_type": "code",
      "execution_count": 150,
      "metadata": {
        "colab": {
          "base_uri": "https://localhost:8080/",
          "height": 910
        },
        "id": "cnRpNLOrwYNC",
        "outputId": "270b9061-075a-433c-e211-b8354de96e29"
      },
      "outputs": [
        {
          "data": {
            "image/png": "[encoded data removed]",
            "text/plain": [
              "<Figure size 1500x1000 with 2 Axes>"
            ]
          },
          "metadata": {},
          "output_type": "display_data"
        }
      ],
      "source": [
        "# Tạo ma trận tương quan giữa các đặc trưng với biến mục tiêu trong tập train\n",
        "correlations_with_salary = X_train.corrwith(y_train)\n",
        "\n",
        "# Tạo DataFrame từ Series\n",
        "correlations_DF = pd.DataFrame(correlations_with_salary, columns=['Correlation with Salary'])\n",
        "\n",
        "# Sắp xếp theo mức độ tương quan giảm dần\n",
        "correlations_DF = correlations_DF.sort_values(by='Correlation with Salary', ascending=False)\n",
        "\n",
        "# Vẽ biểu đồ thể hiện sự tương quan giữa các đặc trưng với biến mục tiêu Salary\n",
        "fig, ax = plt.subplots(figsize=(15, 10))\n",
        "sns.heatmap(correlations_DF.transpose(), cmap=\"Blues\", annot=True, fmt=\".2f\", ax=ax)\n",
        "\n",
        "plt.title(\"Correlation with Salary\")\n",
        "plt.show()"
      ]
    },
    {
      "cell_type": "code",
      "execution_count": 151,
      "metadata": {
        "id": "WeQ285ft9Nj1"
      },
      "outputs": [],
      "source": [
        "# Trình bày các phần tìm ra mô hình\n",
        "\n",
        "# Mô hình 1 :\n",
        "def createModel1():\n",
        "        # Lấy 11 đặc trưng đầu tiên\n",
        "        X_train_new = X_train.iloc[:, 1:12].copy()\n",
        "\n",
        "        # Nhân 2 đặc trưng Quant và Logical để tạo đặc trưng mới Quant_Logical\n",
        "        X_train_new['Quant_Logical'] = X_train['Quant'] * X_train['Logical']\n",
        "\n",
        "        # Xử lý tập X_train_new bằng hàm preprocess\n",
        "        X_train_new = preProcess(X_train_new)\n",
        "\n",
        "        # Thực hiện tương tự trên tập test\n",
        "        X_test_new = X_test.iloc[:, 1:12].copy()\n",
        "        X_test_new['Quant_Logical'] = X_test['Quant'] * X_test['Logical']\n",
        "        X_test_new = preProcess(X_test_new)\n",
        "\n",
        "        return X_train_new, X_test_new\n",
        "\n",
        "# Mô hình 2:\n",
        "def createModel2():\n",
        "        # 8 đặc trưng có mối tương quan nhiều nhất với biến mục tiêu\n",
        "        features_2 = [\n",
        "          \"10percentage\",\n",
        "          \"12percentage\",\n",
        "          \"collegeGPA\",\n",
        "          \"English\",\n",
        "          \"Logical\",\n",
        "          \"Quant\",\n",
        "          \"Domain\",\n",
        "          \"ComputerProgramming\",\n",
        "          ]\n",
        "\n",
        "        X_train_new = X_train[features_2].copy()\n",
        "        \n",
        "        # tạo đặc trưng Logical_square\n",
        "        X_train_new['Logical_square'] = X_train['Logical'] ** 2\n",
        "        \n",
        "        # tạo đặc trưng Quant_square\n",
        "        X_train_new['Quant_square'] = X_train['Quant'] ** 2\n",
        "        \n",
        "        # tạo đặc trưng Quant_Logical\n",
        "        X_train_new['Quant_Logical'] = X_train['Quant'] * X_train['Logical']\n",
        "        X_train_new = preProcess(X_train_new)\n",
        "\n",
        "        X_test_new = X_test[features_2].copy()\n",
        "        X_test_new['Logical_square'] = X_test['Logical'] ** 2\n",
        "        X_test_new['Quant_square'] = X_test['Quant'] ** 2\n",
        "        X_test_new['Quant_Logical'] = X_test['Quant'] * X_test['Logical']\n",
        "        X_test_new = preProcess(X_test_new)\n",
        "\n",
        "        return X_train_new, X_test_new\n",
        "# ---------------------------------------------\n",
        "\n",
        "# MÔ HÌNH 3:\n",
        "def createModel3():\n",
        "        # 5 đặc trưng có mối tương quan nhiều nhất với biến mục tiêu\n",
        "        features_2 = [\n",
        "            \"Quant\",\n",
        "            \"Logical\",\n",
        "            \"English\",\n",
        "            \"10percentage\",\n",
        "            \"12percentage\",\n",
        "        ]\n",
        "        X_train_new = X_train[features_2].copy()\n",
        "\n",
        "        X_train_new['Logical_cubed'] = X_train['Logical'] ** 3\n",
        "\n",
        "        X_train_new['Quant_cubed'] = X_train['Quant'] ** 3\n",
        "\n",
        "        X_train_new['Quant_square'] = X_train['Quant']**2\n",
        "\n",
        "        X_train_new['Logical_square'] = X_train['Logical']**2\n",
        "        X_train_new = preProcess(X_train_new)\n",
        "\n",
        "        X_test_new = X_test[features_2].copy()\n",
        "        X_test_new['Logical_cubed'] = X_test['Logical'] ** 3\n",
        "        X_test_new['Quant_cubed'] = X_test['Quant'] ** 3\n",
        "        X_test_new['Quant_square'] = X_test['Quant']**2\n",
        "        X_test_new['Logical_square'] = X_test['Logical']**2\n",
        "        X_test_new = preProcess(X_test_new)\n",
        "        return X_train_new, X_test_new\n",
        "# ---------------------------------------------"
      ]
    },
    {
      "cell_type": "markdown",
      "metadata": {
        "id": "KSSPfWJ4wYNC"
      },
      "source": [
        "## Thử nghiệm, so sánh các mô hình"
      ]
    },
    {
      "cell_type": "code",
      "execution_count": 152,
      "metadata": {
        "colab": {
          "base_uri": "https://localhost:8080/"
        },
        "id": "G2wiPhETwYNC",
        "outputId": "bd88f253-aba2-4d3c-88a9-33a3cbf6f301"
      },
      "outputs": [
        {
          "name": "stdout",
          "output_type": "stream",
          "text": [
            "The best model is : model_1\n",
            "     Model            MAE\n",
            "0  model_1  113274.019627\n",
            "1  model_2  113301.802929\n",
            "2  model_3  114880.105333\n"
          ]
        }
      ],
      "source": [
        "# Phần code cho yêu cầu 1d\n",
        "# Tìm ra mô hình tốt nhất (tự thiết kế bởi sinh viên)\n",
        "# In ra các kết quả cross-validation như yêu cầu\n",
        "X_train_all_model, X_test_all_model = [], []\n",
        "\n",
        "# Mô hình 1\n",
        "X_train_new, X_test_new = createModel1()\n",
        "X_train_all_model.append(X_train_new)\n",
        "X_test_all_model.append(X_test_new)\n",
        "\n",
        "# Mô hình 2\n",
        "X_train_new, X_test_new = createModel2()\n",
        "X_train_all_model.append(X_train_new)\n",
        "X_test_all_model.append(X_test_new)\n",
        "\n",
        "# Mô hình 3\n",
        "X_train_new, X_test_new = createModel3()\n",
        "X_train_all_model.append(X_train_new)\n",
        "X_test_all_model.append(X_test_new)\n",
        "\n",
        "# Khởi tạo mô hình\n",
        "model = OLSLinearRegression()\n",
        "\n",
        "# Số lượng fold\n",
        "numFold = 5\n",
        "\n",
        "# Cross-validation\n",
        "kf = KFold(n_splits=numFold, shuffle=True, random_state=42)\n",
        "\n",
        "listMae = []\n",
        "index = 0\n",
        "for X_train_model in X_train_all_model:\n",
        "    index +=1\n",
        "    sum = 0\n",
        "    for train_index, test_index in kf.split(X_train_model):\n",
        "        train_X, test_X = X_train_model[train_index], X_train_model[test_index]\n",
        "        train_y, test_y = y_train.iloc[train_index], y_train.iloc[test_index]\n",
        "\n",
        "        model.fit(train_X, train_y)\n",
        "        y_pred = model.predict(test_X)\n",
        "\n",
        "        sum += mae(test_y, y_pred)\n",
        "\n",
        "    avgMae = sum / numFold\n",
        "    listMae.append([f\"model_{index}\",avgMae])\n",
        "\n",
        "sorted_mae = sorted(listMae, key=lambda x: x[1])\n",
        "min_mae = sorted_mae[0]\n",
        "print('The best model is :', min_mae[0])\n",
        "\n",
        "prediction = pd.DataFrame(sorted_mae, columns=['Model', 'MAE'])\n",
        "print(prediction)"
      ]
    },
    {
      "cell_type": "code",
      "execution_count": 153,
      "metadata": {
        "colab": {
          "base_uri": "https://localhost:8080/"
        },
        "id": "t6DSt1JqwYNC",
        "outputId": "5e6ea56c-1131-45e2-d337-e6de4a50edf3"
      },
      "outputs": [
        {
          "name": "stdout",
          "output_type": "stream",
          "text": [
            "18592.171\n",
            "638.262\n",
            "1154.728\n",
            "-101383.425\n",
            "12306.596\n",
            "993.431\n",
            "-10172.735\n",
            "136.332\n",
            "191.579\n",
            "193.767\n",
            "26015.100\n",
            "68.754\n",
            "-0.130\n"
          ]
        }
      ],
      "source": [
        "# Huấn luyện lại mô hình my_best_model trên toàn bộ tập huấn luyện\n",
        "best_model_train, best_model_test = createModel1()\n",
        "if min_mae[0] == 'model_2':\n",
        "  best_model_train, best_model_test = createModel2()\n",
        "elif min_mae[0] == 'model_3':\n",
        "  best_model_train, best_model_test = createModel3()\n",
        "\n",
        "my_best_model = OLSLinearRegression().fit(best_model_train, y_train)\n",
        "for i in my_best_model.get_params():\n",
        "  i = \"{:.3f}\".format(i)\n",
        "  print(i)"
      ]
    },
    {
      "cell_type": "code",
      "execution_count": 154,
      "metadata": {
        "colab": {
          "base_uri": "https://localhost:8080/"
        },
        "id": "7UHm2YQrwYND",
        "outputId": "55062535-7216-4613-8646-55941d9c3c55"
      },
      "outputs": [
        {
          "name": "stdout",
          "output_type": "stream",
          "text": [
            "MAE: 104321.78408038824\n"
          ]
        }
      ],
      "source": [
        "# Gọi hàm MAE (tự cài đặt hoặc từ thư viện) trên tập kiểm tra với mô hình my_best_model\n",
        "y_hat_best = my_best_model.predict(best_model_test)\n",
        "print('MAE:', mae(y_test, y_hat_best))"
      ]
    },
    {
      "cell_type": "markdown",
      "metadata": {
        "id": "_CrzIjQpwYND"
      },
      "source": [
        "Công thức hồi quy (phần trọng số làm tròn đến 3 chữ số thập phân, ví dụ 0.012345 $\\to$ 0.012)\n",
        "\n",
        "$$\\text{Salary} = 18592.171 + 638.262\\times \\text{10percentage} + 1017.654\\times \\text{12percentage} \\\\ + 1275.906\\times \\text{collegeGPA} + 155.410\\times \\text{English} - 1402.431\\times \\text{Logical} + 494.695\\times \\text{Quant} \\\\ + 24961.646\\times \\text{Domain} + 68.846\\times \\text{ComputerProgramming} + $$\n",
        "          \n"
      ]
    }
  ],
  "metadata": {
    "colab": {
      "provenance": []
    },
    "kernelspec": {
      "display_name": "Python 3.8.5 ('base')",
      "language": "python",
      "name": "python3"
    },
    "language_info": {
      "codemirror_mode": {
        "name": "ipython",
        "version": 3
      },
      "file_extension": ".py",
      "mimetype": "text/x-python",
      "name": "python",
      "nbconvert_exporter": "python",
      "pygments_lexer": "ipython3",
      "version": "3.8.10"
    },
    "orig_nbformat": 4,
    "vscode": {
      "interpreter": {
        "hash": "15af99fd1a1a3f0a3416ea421564e792a8676a13670c2eed127d89ab0518a27b"
      }
    }
  },
  "nbformat": 4,
  "nbformat_minor": 0
}
